{
 "cells": [
  {
   "cell_type": "code",
   "execution_count": 2,
   "metadata": {
    "vscode": {
     "languageId": "rust"
    }
   },
   "outputs": [],
   "source": [
    ":dep candle-core = { git = \"https://github.com/huggingface/candle.git\", version = \"0.3.1\" }"
   ]
  },
  {
   "cell_type": "code",
   "execution_count": 16,
   "metadata": {
    "vscode": {
     "languageId": "rust"
    }
   },
   "outputs": [
    {
     "data": {
      "text/plain": [
       "Cpu"
      ]
     },
     "execution_count": 16,
     "metadata": {},
     "output_type": "execute_result"
    }
   ],
   "source": [
    "use candle_core::Device;\n",
    "\n",
    "let device = Device::new_cuda(0).unwrap_or(Device::Cpu);\n",
    "\n",
    "device"
   ]
  },
  {
   "cell_type": "markdown",
   "metadata": {},
   "source": [
    "# Basic Tensor Ops"
   ]
  },
  {
   "cell_type": "code",
   "execution_count": 4,
   "metadata": {
    "vscode": {
     "languageId": "rust"
    }
   },
   "outputs": [],
   "source": [
    "use candle_core::Tensor;\n",
    "\n",
    "let img = Tensor::randn(0f32, 1.0, (1, 784), &device)?;\n",
    "\n",
    "let w1 = Tensor::randn(0f32, 1.0, (784, 100), &device)?;\n",
    "let b1 = Tensor::randn(0f32, 1.0, (100, ), &device)?;\n",
    "\n",
    "let w2 = Tensor::randn(0f32, 1.0, (100, 10), &device)?;\n",
    "let b2 = Tensor::randn(0f32, 1.0, (10, ), &device)?;"
   ]
  },
  {
   "cell_type": "code",
   "execution_count": 5,
   "metadata": {
    "vscode": {
     "languageId": "rust"
    }
   },
   "outputs": [
    {
     "data": {
      "text/plain": [
       "Tensor[dims 1, 100; f32]"
      ]
     },
     "execution_count": 5,
     "metadata": {},
     "output_type": "execute_result"
    }
   ],
   "source": [
    "let x = img.matmul(&w1)?.broadcast_add(&b1)?;\n",
    "\n",
    "x"
   ]
  },
  {
   "cell_type": "code",
   "execution_count": 6,
   "metadata": {
    "vscode": {
     "languageId": "rust"
    }
   },
   "outputs": [
    {
     "data": {
      "text/plain": [
       "Tensor[dims 1, 100; f32]"
      ]
     },
     "execution_count": 6,
     "metadata": {},
     "output_type": "execute_result"
    }
   ],
   "source": [
    "let x = x.relu()?;\n",
    "\n",
    "x"
   ]
  },
  {
   "cell_type": "code",
   "execution_count": 7,
   "metadata": {
    "vscode": {
     "languageId": "rust"
    }
   },
   "outputs": [
    {
     "data": {
      "text/plain": [
       "Tensor[dims 1, 10; f32]"
      ]
     },
     "execution_count": 7,
     "metadata": {},
     "output_type": "execute_result"
    }
   ],
   "source": [
    "let digit = x.matmul(&w2)?.broadcast_add(&b2)?;\n",
    "\n",
    "digit"
   ]
  },
  {
   "cell_type": "code",
   "execution_count": 8,
   "metadata": {
    "vscode": {
     "languageId": "rust"
    }
   },
   "outputs": [
    {
     "name": "stdout",
     "output_type": "stream",
     "text": [
      "[[-257.8495,    5.0175,  379.4254,  -19.7939, -149.9870,  235.7281, -256.8443,\n",
      "    -3.6007,  -85.4078,   81.2617]]\n",
      "Tensor[[1, 10], f32]\n"
     ]
    }
   ],
   "source": [
    "println!(\"{}\", digit);"
   ]
  },
  {
   "cell_type": "markdown",
   "metadata": {},
   "source": [
    "# Basic Abstractions"
   ]
  },
  {
   "cell_type": "code",
   "execution_count": 9,
   "metadata": {
    "vscode": {
     "languageId": "rust"
    }
   },
   "outputs": [],
   "source": [
    "use candle_core::{Tensor, Result};\n",
    "\n",
    "struct Model {\n",
    "    first: Linear,\n",
    "    second: Linear,\n",
    "}\n",
    "\n",
    "impl Model {\n",
    "    fn forward(&self, img: &Tensor) -> Result<Tensor> {\n",
    "        let x = self.first.forward(&img)?;\n",
    "        let x = x.relu()?;\n",
    "        self.second.forward(&x)\n",
    "    }\n",
    "}\n",
    "\n",
    "struct Linear{\n",
    "    weight: Tensor,\n",
    "    bias: Tensor,\n",
    "}\n",
    "\n",
    "impl Linear {\n",
    "    fn forward(&self, x: &Tensor) -> Result<Tensor> {\n",
    "        let x = x.matmul(&self.weight)?;\n",
    "        x.broadcast_add(&self.bias)\n",
    "    }\n",
    "}"
   ]
  },
  {
   "cell_type": "code",
   "execution_count": 10,
   "metadata": {
    "vscode": {
     "languageId": "rust"
    }
   },
   "outputs": [],
   "source": [
    "use candle_core::Tensor;\n",
    "\n",
    "let w1 = Tensor::randn(0f32, 1.0, (784, 100), &device)?;\n",
    "let b1 = Tensor::randn(0f32, 1.0, (100, ), &device)?;\n",
    "let l1 = Linear { weight: w1, bias: b1 };\n",
    "\n",
    "let w2 = Tensor::randn(0f32, 1.0, (100, 10), &device)?;\n",
    "let b2 = Tensor::randn(0f32, 1.0, (10, ), &device)?;\n",
    "let l2 = Linear { weight: w2, bias: b2 };\n",
    "\n",
    "let model = Model { first: l1, second: l2 };"
   ]
  },
  {
   "cell_type": "code",
   "execution_count": 11,
   "metadata": {
    "vscode": {
     "languageId": "rust"
    }
   },
   "outputs": [
    {
     "data": {
      "text/plain": [
       "Tensor[dims 1, 10; f32]"
      ]
     },
     "execution_count": 11,
     "metadata": {},
     "output_type": "execute_result"
    }
   ],
   "source": [
    "let img = Tensor::randn(0f32, 1.0, (1, 784), &device)?;\n",
    "\n",
    "let digit = model.forward(&img)?;\n",
    "\n",
    "digit"
   ]
  },
  {
   "cell_type": "code",
   "execution_count": 12,
   "metadata": {
    "vscode": {
     "languageId": "rust"
    }
   },
   "outputs": [
    {
     "name": "stdout",
     "output_type": "stream",
     "text": [
      "[[ 310.6161, -111.7927,  -45.6357,    0.7160,  -43.6480,  -60.4750,  284.5006,\n",
      "  -410.4315,  -33.8279,  100.1221]]\n",
      "Tensor[[1, 10], f32]\n"
     ]
    }
   ],
   "source": [
    "println!(\"{}\", digit);"
   ]
  },
  {
   "cell_type": "markdown",
   "metadata": {},
   "source": [
    "# Built-in Abstractions"
   ]
  },
  {
   "cell_type": "code",
   "execution_count": 13,
   "metadata": {
    "vscode": {
     "languageId": "rust"
    }
   },
   "outputs": [],
   "source": [
    ":dep candle-nn = { git = \"https://github.com/huggingface/candle.git\", version = \"0.3.1\" }"
   ]
  },
  {
   "cell_type": "code",
   "execution_count": null,
   "metadata": {
    "vscode": {
     "languageId": "rust"
    }
   },
   "outputs": [],
   "source": []
  }
 ],
 "metadata": {
  "kernelspec": {
   "display_name": "Rust",
   "language": "rust",
   "name": "rust"
  },
  "language_info": {
   "codemirror_mode": "rust",
   "file_extension": ".rs",
   "mimetype": "text/rust",
   "name": "Rust",
   "pygment_lexer": "rust",
   "version": ""
  }
 },
 "nbformat": 4,
 "nbformat_minor": 2
}
